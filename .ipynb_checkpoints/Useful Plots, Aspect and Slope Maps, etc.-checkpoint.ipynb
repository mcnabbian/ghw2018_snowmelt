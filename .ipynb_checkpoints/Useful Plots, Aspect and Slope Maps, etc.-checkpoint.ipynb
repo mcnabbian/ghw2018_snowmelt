{
 "cells": [
  {
   "cell_type": "code",
   "execution_count": 1,
   "metadata": {},
   "outputs": [],
   "source": [
    "import rasterio\n",
    "import rasterio.plot\n",
    "import pyproj\n",
    "import numpy as np\n",
    "import matplotlib\n",
    "import matplotlib.pyplot as plt\n",
    "import pprint\n",
    "import seaborn as sns\n",
    "import warnings\n",
    "warnings.filterwarnings('ignore')"
   ]
  },
  {
   "cell_type": "markdown",
   "metadata": {},
   "source": [
    "### Plotting Snowpack Diffs Over the Measured Observations"
   ]
  },
  {
   "cell_type": "code",
   "execution_count": 2,
   "metadata": {},
   "outputs": [
    {
     "ename": "RasterioIOError",
     "evalue": "./ghw2018_snowmelt_data/scene_30m_mask.tif: No such file or directory",
     "output_type": "error",
     "traceback": [
      "\u001b[0;31m---------------------------------------------------------------------------\u001b[0m",
      "\u001b[0;31mCPLE_OpenFailedError\u001b[0m                      Traceback (most recent call last)",
      "\u001b[0;32mrasterio/_base.pyx\u001b[0m in \u001b[0;36mrasterio._base.DatasetBase.__init__\u001b[0;34m()\u001b[0m\n",
      "\u001b[0;32mrasterio/_shim.pyx\u001b[0m in \u001b[0;36mrasterio._shim.open_dataset\u001b[0;34m()\u001b[0m\n",
      "\u001b[0;32mrasterio/_err.pyx\u001b[0m in \u001b[0;36mrasterio._err.exc_wrap_pointer\u001b[0;34m()\u001b[0m\n",
      "\u001b[0;31mCPLE_OpenFailedError\u001b[0m: ./ghw2018_snowmelt_data/scene_30m_mask.tif: No such file or directory",
      "\nDuring handling of the above exception, another exception occurred:\n",
      "\u001b[0;31mRasterioIOError\u001b[0m                           Traceback (most recent call last)",
      "\u001b[0;32m<ipython-input-2-a9350f703d17>\u001b[0m in \u001b[0;36m<module>\u001b[0;34m()\u001b[0m\n\u001b[0;32m----> 1\u001b[0;31m \u001b[0;32mwith\u001b[0m \u001b[0mrasterio\u001b[0m\u001b[0;34m.\u001b[0m\u001b[0mopen\u001b[0m\u001b[0;34m(\u001b[0m\u001b[0;34m\"./ghw2018_snowmelt_data/scene_30m_mask.tif\"\u001b[0m\u001b[0;34m)\u001b[0m \u001b[0;32mas\u001b[0m \u001b[0mraster\u001b[0m\u001b[0;34m:\u001b[0m\u001b[0;34m\u001b[0m\u001b[0m\n\u001b[0m\u001b[1;32m      2\u001b[0m     \u001b[0mmask\u001b[0m \u001b[0;34m=\u001b[0m \u001b[0mraster\u001b[0m\u001b[0;34m.\u001b[0m\u001b[0mread\u001b[0m\u001b[0;34m(\u001b[0m\u001b[0;36m1\u001b[0m\u001b[0;34m)\u001b[0m\u001b[0;34m\u001b[0m\u001b[0m\n\u001b[1;32m      3\u001b[0m \u001b[0;34m\u001b[0m\u001b[0m\n\u001b[1;32m      4\u001b[0m \u001b[0mdates_in_2014\u001b[0m \u001b[0;34m=\u001b[0m \u001b[0;34m[\u001b[0m\u001b[0;34m\"0323\"\u001b[0m\u001b[0;34m,\u001b[0m \u001b[0;34m\"0407\"\u001b[0m\u001b[0;34m,\u001b[0m \u001b[0;34m\"0413\"\u001b[0m\u001b[0;34m,\u001b[0m \u001b[0;34m\"0420\"\u001b[0m\u001b[0;34m,\u001b[0m \u001b[0;34m\"0428\"\u001b[0m\u001b[0;34m,\u001b[0m \u001b[0;34m\"0502\"\u001b[0m\u001b[0;34m,\u001b[0m \u001b[0;34m\"0511\"\u001b[0m\u001b[0;34m,\u001b[0m \u001b[0;34m\"0517\"\u001b[0m\u001b[0;34m,\u001b[0m \u001b[0;34m\"0527\"\u001b[0m\u001b[0;34m,\u001b[0m \u001b[0;34m\"0531\"\u001b[0m\u001b[0;34m,\u001b[0m \u001b[0;34m\"0605\"\u001b[0m\u001b[0;34m]\u001b[0m\u001b[0;34m\u001b[0m\u001b[0m\n\u001b[1;32m      5\u001b[0m \u001b[0mdata_matrices\u001b[0m \u001b[0;34m=\u001b[0m \u001b[0;34m[\u001b[0m\u001b[0;34m]\u001b[0m\u001b[0;34m\u001b[0m\u001b[0m\n",
      "\u001b[0;32m~/miniconda3/envs/ghw2018_snowmelt/lib/python3.6/site-packages/rasterio/env.py\u001b[0m in \u001b[0;36mwrapper\u001b[0;34m(*args, **kwds)\u001b[0m\n\u001b[1;32m    401\u001b[0m             \u001b[0;32melse\u001b[0m\u001b[0;34m:\u001b[0m\u001b[0;34m\u001b[0m\u001b[0m\n\u001b[1;32m    402\u001b[0m                 \u001b[0;32mpass\u001b[0m\u001b[0;34m\u001b[0m\u001b[0m\n\u001b[0;32m--> 403\u001b[0;31m             \u001b[0;32mreturn\u001b[0m \u001b[0mf\u001b[0m\u001b[0;34m(\u001b[0m\u001b[0;34m*\u001b[0m\u001b[0margs\u001b[0m\u001b[0;34m,\u001b[0m \u001b[0;34m**\u001b[0m\u001b[0mkwds\u001b[0m\u001b[0;34m)\u001b[0m\u001b[0;34m\u001b[0m\u001b[0m\n\u001b[0m\u001b[1;32m    404\u001b[0m \u001b[0;34m\u001b[0m\u001b[0m\n\u001b[1;32m    405\u001b[0m     \u001b[0;32mreturn\u001b[0m \u001b[0mwrapper\u001b[0m\u001b[0;34m\u001b[0m\u001b[0m\n",
      "\u001b[0;32m~/miniconda3/envs/ghw2018_snowmelt/lib/python3.6/site-packages/rasterio/__init__.py\u001b[0m in \u001b[0;36mopen\u001b[0;34m(fp, mode, driver, width, height, count, crs, transform, dtype, nodata, sharing, **kwargs)\u001b[0m\n\u001b[1;32m    215\u001b[0m         \u001b[0;31m# None.\u001b[0m\u001b[0;34m\u001b[0m\u001b[0;34m\u001b[0m\u001b[0m\n\u001b[1;32m    216\u001b[0m         \u001b[0;32mif\u001b[0m \u001b[0mmode\u001b[0m \u001b[0;34m==\u001b[0m \u001b[0;34m'r'\u001b[0m\u001b[0;34m:\u001b[0m\u001b[0;34m\u001b[0m\u001b[0m\n\u001b[0;32m--> 217\u001b[0;31m             \u001b[0ms\u001b[0m \u001b[0;34m=\u001b[0m \u001b[0mDatasetReader\u001b[0m\u001b[0;34m(\u001b[0m\u001b[0mpath\u001b[0m\u001b[0;34m,\u001b[0m \u001b[0mdriver\u001b[0m\u001b[0;34m=\u001b[0m\u001b[0mdriver\u001b[0m\u001b[0;34m,\u001b[0m \u001b[0;34m**\u001b[0m\u001b[0mkwargs\u001b[0m\u001b[0;34m)\u001b[0m\u001b[0;34m\u001b[0m\u001b[0m\n\u001b[0m\u001b[1;32m    218\u001b[0m         \u001b[0;32melif\u001b[0m \u001b[0mmode\u001b[0m \u001b[0;34m==\u001b[0m \u001b[0;34m'r+'\u001b[0m\u001b[0;34m:\u001b[0m\u001b[0;34m\u001b[0m\u001b[0m\n\u001b[1;32m    219\u001b[0m             \u001b[0ms\u001b[0m \u001b[0;34m=\u001b[0m \u001b[0mget_writer_for_path\u001b[0m\u001b[0;34m(\u001b[0m\u001b[0mpath\u001b[0m\u001b[0;34m)\u001b[0m\u001b[0;34m(\u001b[0m\u001b[0mpath\u001b[0m\u001b[0;34m,\u001b[0m \u001b[0mmode\u001b[0m\u001b[0;34m,\u001b[0m \u001b[0mdriver\u001b[0m\u001b[0;34m=\u001b[0m\u001b[0mdriver\u001b[0m\u001b[0;34m,\u001b[0m \u001b[0;34m**\u001b[0m\u001b[0mkwargs\u001b[0m\u001b[0;34m)\u001b[0m\u001b[0;34m\u001b[0m\u001b[0m\n",
      "\u001b[0;32mrasterio/_base.pyx\u001b[0m in \u001b[0;36mrasterio._base.DatasetBase.__init__\u001b[0;34m()\u001b[0m\n",
      "\u001b[0;31mRasterioIOError\u001b[0m: ./ghw2018_snowmelt_data/scene_30m_mask.tif: No such file or directory"
     ]
    }
   ],
   "source": [
    "with rasterio.open(\"./ghw2018_snowmelt_data/scene_30m_mask.tif\") as raster:\n",
    "    mask = raster.read(1)\n",
    "\n",
    "dates_in_2014 = [\"0323\", \"0407\", \"0413\", \"0420\", \"0428\", \"0502\", \"0511\", \"0517\", \"0527\", \"0531\", \"0605\"]\n",
    "data_matrices = []\n",
    "\n",
    "for date in dates_in_2014:\n",
    "    with rasterio.open(f\"./ghw2018_snowmelt_data/TB2014{date}_SUPERsnow_depth.tif_mean30m.tif\") as raster:\n",
    "        data_matrices.append(raster.read(1)*mask)\n",
    "\n",
    "data_matrices = np.asarray(data_matrices)\n",
    "data_matrices = np.nan_to_num(data_matrices)\n",
    "diffs = np.diff(data_matrices, axis=0)\n",
    "\n",
    "plt.figure(figsize=(14,14))\n",
    "plot_number = 1\n",
    "\n",
    "for matrix in diffs:\n",
    "    matrix[abs(matrix) < 0.001] = np.nan\n",
    "    ax = plt.subplot(6,3, plot_number)\n",
    "    plt.imshow(matrix, vmin=-2, vmax=2)\n",
    "    plot_number = plot_number + 1\n",
    "    plt.colorbar()\n",
    "    \n",
    "plt.tight_layout"
   ]
  },
  {
   "cell_type": "markdown",
   "metadata": {},
   "source": [
    "### Creating Aspect and Slope Maps"
   ]
  },
  {
   "cell_type": "code",
   "execution_count": null,
   "metadata": {},
   "outputs": [],
   "source": [
    "# using gdal command line tools to do slope and aspect calculations\n",
    "!gdaldem aspect ghw2018_snowmelt_data/dem30m.tif ghw2018_snowmelt_data/aspect30m.tif -trigonometric -zero_for_flat\n",
    "!gdaldem slope ghw2018_snowmelt_data/dem30m.tif ghw2018_snowmelt_data/slope30m.tif\n",
    "\n",
    "# plotting aspect\n",
    "with rasterio.open('./ghw2018_snowmelt_data/aspect30m.tif') as raster:\n",
    "    aspect_map = raster.read(1)*mask\n",
    "    \n",
    "plt.figure(figsize = (10,10))\n",
    "plt.imshow(aspect_map)\n",
    "cbar=plt.colorbar()\n",
    "cbar.ax.set_ylabel('Aspect (Degrees)')\n",
    "plt.title('Aspect (Degrees)')\n",
    "\n",
    "# plotting slope\n",
    "with rasterio.open('./ghw2018_snowmelt_data/slope30m.tif') as raster:\n",
    "    slope_map = raster.read(1)*mask\n",
    "plt.figure(figsize = (10,10))\n",
    "plt.imshow(slope_map, vmin=0)\n",
    "cbar=plt.colorbar()\n",
    "cbar.ax.set_ylabel('Slope (Degrees)')\n",
    "plt.title('Slope (Degrees)')"
   ]
  },
  {
   "cell_type": "markdown",
   "metadata": {},
   "source": [
    "### Histograms of Snow Depth Diff Across Elevation Bands in 2014"
   ]
  },
  {
   "cell_type": "code",
   "execution_count": null,
   "metadata": {
    "scrolled": true
   },
   "outputs": [],
   "source": [
    "with rasterio.open('./ghw2018_snowmelt_data/dem30m.tif') as raster:\n",
    "    dem = raster.read(1)*mask\n",
    "\n",
    "bands = [(600,2000), (2000,2300), (2300, 2600), (2600, 2900), (2900, 3200), (3200, 3500), (3500, 3800), (3800, 4100)]\n",
    "band_masks = []\n",
    "\n",
    "for x,y in bands:\n",
    "    band = ((dem>x) & (dem<y))*mask\n",
    "    band[band==False]=np.nan\n",
    "    band_masks.append(band)\n",
    "    \n",
    "plt.figure(figsize=(16,16))\n",
    "plot_number = 1\n",
    "bands = np.array(band_masks)\n",
    "for period in diffs:\n",
    "    data = bands * period\n",
    "    for_plotting = []\n",
    "    for d in data:\n",
    "        for_plotting.append(d.ravel())\n",
    "        \n",
    "    ax = plt.subplot(6,3, plot_number)\n",
    "    sns.boxplot(data=for_plotting, orient='v')\n",
    "    plt.ylim((-1,1))\n",
    "    plot_number = plot_number + 1\n",
    "\n"
   ]
  },
  {
   "cell_type": "code",
   "execution_count": null,
   "metadata": {},
   "outputs": [],
   "source": [
    "help(d.ravel)"
   ]
  }
 ],
 "metadata": {
  "kernelspec": {
   "display_name": "Python 3",
   "language": "python",
   "name": "python3"
  },
  "language_info": {
   "codemirror_mode": {
    "name": "ipython",
    "version": 3
   },
   "file_extension": ".py",
   "mimetype": "text/x-python",
   "name": "python",
   "nbconvert_exporter": "python",
   "pygments_lexer": "ipython3",
   "version": "3.6.6"
  }
 },
 "nbformat": 4,
 "nbformat_minor": 2
}
